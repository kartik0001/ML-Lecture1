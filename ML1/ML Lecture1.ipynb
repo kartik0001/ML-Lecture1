{
 "cells": [
  {
   "cell_type": "markdown",
   "metadata": {},
   "source": [
    "# Welcome to Jupyter!"
   ]
  },
  {
   "cell_type": "markdown",
   "metadata": {},
   "source": [
    "This repo contains an introduction to [Jupyter](https://jupyter.org) and [IPython](https://ipython.org).\n",
    "\n",
    "Outline of some basics:\n",
    "\n",
    "* [Notebook Basics](../examples/Notebook/Notebook Basics.ipynb)\n",
    "* [IPython - beyond plain python](../examples/IPython Kernel/Beyond Plain Python.ipynb)\n",
    "* [Markdown Cells](../examples/Notebook/Working With Markdown Cells.ipynb)\n",
    "* [Rich Display System](../examples/IPython Kernel/Rich Output.ipynb)\n",
    "* [Custom Display logic](../examples/IPython%20Kernel/Custom%20Display%20Logic.ipynb)\n",
    "* [Running a Secure Public Notebook Server](../examples/Notebook/Running%20the%20Notebook%20Server.ipynb#Securing-the-notebook-server)\n",
    "* [How Jupyter works](../examples/Notebook/Multiple%20Languages%2C%20Frontends.ipynb) to run code in different languages."
   ]
  },
  {
   "cell_type": "markdown",
   "metadata": {},
   "source": [
    "You can also get this tutorial and run it on your laptop:\n",
    "\n",
    "    git clone https://github.com/ipython/ipython-in-depth\n",
    "\n",
    "Install IPython and Jupyter:\n",
    "\n",
    "with [conda](https://www.anaconda.com/download):\n",
    "\n",
    "    conda install ipython jupyter\n",
    "\n",
    "with pip:\n",
    "\n",
    "    # first, always upgrade pip!\n",
    "    pip install --upgrade pip\n",
    "    pip install --upgrade ipython jupyter\n",
    "\n",
    "Start the notebook in the tutorial directory:\n",
    "\n",
    "    cd ipython-in-depth\n",
    "    jupyter notebook"
   ]
  },
  {
   "cell_type": "code",
   "execution_count": 1,
   "metadata": {},
   "outputs": [
    {
     "name": "stdout",
     "output_type": "stream",
     "text": [
      "[8, 9, 10, 11, 12]\n",
      "[8, 9, 10, 11, 12]\n",
      "[2, 4, 6, 8, 10, 12, 14, 16]\n",
      "[1, 5, 9, 13]\n"
     ]
    }
   ],
   "source": [
    "'''Q1) Given a list\n",
    " x = [1, 2, 3, 4, 5, 6, 7, 8, 9, 10, 11, 12, 13, 14, 15, 16]\n",
    "Produce an ouput:-\n",
    "    [8, 9, 10, 11, 12]\n",
    "Do this by using slicing from the front (positive)\n",
    "Do this by using slicing from the back (negative)\n",
    "'''\n",
    "#Ans 1\n",
    "\n",
    "list=[1,2,3,4,5,6,7,8,9,10,11,12,13,14,15,16]\n",
    "print(list[7:12])\n",
    "print(list[-9:-4])\n",
    "\n",
    "''''\n",
    "2) Given a list\n",
    " x = [1, 2, 3, 4, 5, 6, 7, 8, 9, 10, 11, 12, 13, 14, 15, 16]\n",
    "Print even number from x using list slicing only.\n",
    "Output should be like:-\n",
    "    [2, 4, 6, 8, 10, 12, 14, 16]\n",
    "'''\n",
    "\n",
    "#Ans 2\n",
    "\n",
    "list=[1,2,3,4,5,6,7,8,9,10,11,12,13,14,15,16]\n",
    "print(list[1: :2])\n",
    "\n",
    "'''\n",
    "3) Given a list\n",
    "x = [1, 2, 3, 4, 5, 6, 7, 8, 9, 10, 11, 12, 13, 14, 15, 16]\n",
    "Print every 4th number using list slicing only.\n",
    "Output should be like:-\n",
    "    [1, 5, 9, 13]\n",
    "'''\n",
    "#Ans 3\n",
    "\n",
    "list=[1,2,3,4,5,6,7,8,9,10,11,12,13,14,15,16]\n",
    "print(list[: :4])"
   ]
  },
  {
   "cell_type": "code",
   "execution_count": null,
   "metadata": {},
   "outputs": [],
   "source": []
  }
 ],
 "metadata": {
  "kernelspec": {
   "display_name": "Python 3",
   "language": "python",
   "name": "python3"
  },
  "language_info": {
   "codemirror_mode": {
    "name": "ipython",
    "version": 3
   },
   "file_extension": ".py",
   "mimetype": "text/x-python",
   "name": "python",
   "nbconvert_exporter": "python",
   "pygments_lexer": "ipython3",
   "version": "3.6.4"
  }
 },
 "nbformat": 4,
 "nbformat_minor": 2
}
